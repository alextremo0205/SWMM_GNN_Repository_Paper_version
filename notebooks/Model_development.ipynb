{
 "cells": [
  {
   "attachments": {},
   "cell_type": "markdown",
   "metadata": {},
   "source": [
    "# Machine learning Metamodels for Urban Drainage Systems"
   ]
  },
  {
   "attachments": {},
   "cell_type": "markdown",
   "metadata": {},
   "source": [
    "## Main program"
   ]
  },
  {
   "attachments": {},
   "cell_type": "markdown",
   "metadata": {},
   "source": [
    "### Preliminaries"
   ]
  },
  {
   "cell_type": "code",
   "execution_count": 2,
   "metadata": {},
   "outputs": [],
   "source": [
    "# %load_ext jupyter_black\n",
    "import os\n",
    "import sys\n",
    "\n",
    "sys.path.append(\"..\")\n",
    "sys.path.append(\"../libraries\")\n",
    "\n",
    "import wandb\n",
    "from pathlib import Path\n",
    "from dotenv import load_dotenv\n",
    "from libraries.utils import load_yaml\n",
    "from libraries.MLExperiment import MLExperiment\n",
    "\n",
    "# Load .env file\n",
    "load_dotenv()\n",
    "\n",
    "# Accessing variables\n",
    "data_folder = os.getenv(\"DATA_FOLDER\")\n",
    "saved_objects_folder = os.getenv(\"SAVED_OBJECTS_FOLDER\")\n",
    "project_name = os.getenv(\"PROJECT_NAME\")\n",
    "wandb_dir = os.getenv(\"WANDB_DIR\")\n",
    "yaml_folder = os.getenv(\"YAML_FOLDER\")"
   ]
  },
  {
   "cell_type": "code",
   "execution_count": null,
   "metadata": {},
   "outputs": [],
   "source": [
    "# The YAML file can be one of the following: \"Tuindorp development GNN.yaml\" or \"Tuindorp development MLP.yaml\" or \"Tuindorp transferability GNN.yaml\"\n",
    "\n",
    "yaml_path = Path(yaml_folder) / \"Tuindorp transferability GNN.yaml\"\n",
    "yaml_data = load_yaml(yaml_path)"
   ]
  },
  {
   "attachments": {},
   "cell_type": "markdown",
   "metadata": {},
   "source": [
    "### ML Experiment tracking"
   ]
  },
  {
   "cell_type": "code",
   "execution_count": null,
   "metadata": {},
   "outputs": [],
   "source": [
    "wandb.init(\n",
    "    project=project_name,\n",
    "    group=None,\n",
    "    entity=\"alextremo0205\",\n",
    "    mode=\"disabled\",\n",
    "    dir=wandb_dir,\n",
    "    config=yaml_data,\n",
    "    tags=[\"this run can be deleted\"],\n",
    ")\n",
    "\n",
    "config = wandb.config"
   ]
  },
  {
   "attachments": {},
   "cell_type": "markdown",
   "metadata": {},
   "source": [
    "### Set up experiment"
   ]
  },
  {
   "cell_type": "code",
   "execution_count": null,
   "metadata": {},
   "outputs": [],
   "source": [
    "ml_experiment = MLExperiment(config, data_folder, saved_objects_folder)"
   ]
  },
  {
   "attachments": {},
   "cell_type": "markdown",
   "metadata": {},
   "source": [
    "----------------------"
   ]
  },
  {
   "attachments": {},
   "cell_type": "markdown",
   "metadata": {},
   "source": [
    "### Training model"
   ]
  },
  {
   "cell_type": "code",
   "execution_count": null,
   "metadata": {},
   "outputs": [],
   "source": [
    "ml_experiment.train_model()"
   ]
  },
  {
   "cell_type": "code",
   "execution_count": null,
   "metadata": {},
   "outputs": [],
   "source": [
    "# ml_experiment.trainer._load_best_parameters_in_model()"
   ]
  },
  {
   "attachments": {},
   "cell_type": "markdown",
   "metadata": {},
   "source": [
    "### Using the model"
   ]
  },
  {
   "cell_type": "code",
   "execution_count": null,
   "metadata": {},
   "outputs": [],
   "source": [
    "ml_experiment.run_model_in_validation_event(event_index=8)"
   ]
  },
  {
   "attachments": {},
   "cell_type": "markdown",
   "metadata": {},
   "source": [
    "### Visualization of results"
   ]
  },
  {
   "cell_type": "code",
   "execution_count": null,
   "metadata": {},
   "outputs": [],
   "source": [
    "ml_experiment.display_results()"
   ]
  }
 ],
 "metadata": {
  "kernelspec": {
   "display_name": "venv_windows_gnn",
   "language": "python",
   "name": "python3"
  },
  "language_info": {
   "codemirror_mode": {
    "name": "ipython",
    "version": 3
   },
   "file_extension": ".py",
   "mimetype": "text/x-python",
   "name": "python",
   "nbconvert_exporter": "python",
   "pygments_lexer": "ipython3",
   "version": "3.10.8"
  },
  "orig_nbformat": 4
 },
 "nbformat": 4,
 "nbformat_minor": 2
}
