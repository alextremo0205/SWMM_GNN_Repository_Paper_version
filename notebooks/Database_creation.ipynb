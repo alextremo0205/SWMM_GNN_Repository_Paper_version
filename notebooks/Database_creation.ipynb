{
 "cells": [
  {
   "cell_type": "markdown",
   "id": "ea70097a-8a1b-4cf0-9afd-e2a684a42440",
   "metadata": {},
   "source": [
    "# Creation of the SWMM database\n",
    "Create and export hydraulic head and runoff simulations for synthetic or real rainfalls"
   ]
  },
  {
   "cell_type": "markdown",
   "id": "8705c2c1",
   "metadata": {},
   "source": [
    "### Preliminaries"
   ]
  },
  {
   "cell_type": "code",
   "execution_count": 2,
   "id": "7c1a3b68-0aba-488b-b89b-6305619abe2b",
   "metadata": {
    "execution": {
     "iopub.execute_input": "2022-05-25T14:14:22.464055Z",
     "iopub.status.busy": "2022-05-25T14:14:22.464055Z",
     "iopub.status.idle": "2022-05-25T14:14:22.482224Z",
     "shell.execute_reply": "2022-05-25T14:14:22.481286Z",
     "shell.execute_reply.started": "2022-05-25T14:14:22.464055Z"
    },
    "tags": []
   },
   "outputs": [],
   "source": [
    "# %load_ext jupyter_black\n",
    "import os\n",
    "import sys\n",
    "from pathlib import Path\n",
    "from dotenv import load_dotenv\n",
    "\n",
    "sys.path.append(\"..\")\n",
    "sys.path.append(\"../libraries\")\n",
    "\n",
    "from libraries.utils import load_yaml, load_pickle\n",
    "import libraries.utils_data as ud\n",
    "\n",
    "load_dotenv()\n",
    "data_folder = Path(os.getenv(\"DATA_FOLDER\"))\n",
    "yaml_folder = Path(os.getenv(\"YAML_FOLDER\"))\n",
    "saved_objects_folder = Path(os.getenv(\"SAVED_OBJECTS_FOLDER\"))"
   ]
  },
  {
   "cell_type": "markdown",
   "id": "8e16a71b",
   "metadata": {},
   "source": [
    "Configuration information"
   ]
  },
  {
   "cell_type": "code",
   "execution_count": 2,
   "id": "3bde9e89",
   "metadata": {},
   "outputs": [],
   "source": [
    "yaml_name = \"Tuindorp development GNN.yaml\"\n",
    "\n",
    "yaml_path = Path(yaml_folder) / yaml_name\n",
    "\n",
    "yaml_data = load_yaml(yaml_path)\n",
    "\n",
    "inp_path = (\n",
    "    saved_objects_folder\n",
    "    / \"networks\"\n",
    "    / yaml_data[\"network\"]\n",
    "    / (yaml_data[\"network\"] + \".inp\")\n",
    ")"
   ]
  },
  {
   "cell_type": "code",
   "execution_count": 3,
   "id": "98a866f7",
   "metadata": {},
   "outputs": [],
   "source": [
    "type_datasets = [\"training\", \"validation\", \"testing\"]\n",
    "\n",
    "rainfall_dats_directories = [\n",
    "    data_folder / yaml_data[\"network\"] / \"rainfall_dats\" / type_dataset\n",
    "    for type_dataset in type_datasets\n",
    "]\n",
    "\n",
    "simulation_directories = [\n",
    "    data_folder / yaml_data[\"network\"] / \"simulations\" / type_dataset\n",
    "    for type_dataset in type_datasets\n",
    "]\n",
    "\n",
    "for dir in rainfall_dats_directories + simulation_directories:\n",
    "    if not dir.exists():\n",
    "        dir.mkdir(parents=True)"
   ]
  },
  {
   "cell_type": "markdown",
   "id": "740adc6d",
   "metadata": {},
   "source": [
    "## Synthetic rainfalls"
   ]
  },
  {
   "cell_type": "markdown",
   "id": "113fc1cb",
   "metadata": {},
   "source": [
    "Alternating blocks method"
   ]
  },
  {
   "cell_type": "code",
   "execution_count": null,
   "id": "23dd16c1",
   "metadata": {},
   "outputs": [],
   "source": [
    "n_synthetic_rainfalls = [\n",
    "    20,\n",
    "    15,\n",
    "    0,\n",
    "]  # The number of synthetic rainfalls for training, validation and testing\n",
    "\n",
    "range_A = [15000, 25000]\n",
    "params_B = [20, 30]\n",
    "range_D = [4, 36]\n",
    "\n",
    "c = 0\n",
    "for i in range(3):\n",
    "\n",
    "    alternating_random_rainfalls = ud.get_multiple_alt_blocks_rainfalls(\n",
    "        n_synthetic_rainfalls[i],\n",
    "        dt=1,\n",
    "        range_A=range_A,\n",
    "        params_B=params_B,\n",
    "        range_D=range_D,\n",
    "    )\n",
    "    ud.create_datfiles(\n",
    "        alternating_random_rainfalls,\n",
    "        rainfall_dats_directories[i],\n",
    "        identifier=\"synt\",\n",
    "        isReal=False,\n",
    "        offset=c,\n",
    "    )\n",
    "    c += n_synthetic_rainfalls[i]"
   ]
  },
  {
   "cell_type": "markdown",
   "id": "9df73360",
   "metadata": {},
   "source": [
    "## Real rainfalls"
   ]
  },
  {
   "cell_type": "code",
   "execution_count": null,
   "id": "e914d066",
   "metadata": {},
   "outputs": [],
   "source": [
    "n_real_rains = [80, 15, 30]\n",
    "real_rainfalls_directory = saved_objects_folder / \"real_rainfalls\"\n",
    "pixel2 = load_pickle(real_rainfalls_directory / \"events_pixel2_2014_5h.pk\")"
   ]
  },
  {
   "cell_type": "code",
   "execution_count": null,
   "id": "dbe33c59",
   "metadata": {},
   "outputs": [],
   "source": [
    "rains_larger_than_ten = []\n",
    "# There are some rains that have None values, these are catched with the try.\n",
    "c = 0\n",
    "for i in range(3):\n",
    "    rains_of_type = []\n",
    "    while len(rains_of_type) < n_real_rains[i] and c <= 200 * (i + 1):\n",
    "        try:\n",
    "            max_rain = ud.get_max_from_raindict(pixel2[c])\n",
    "        except Exception as e:\n",
    "            max_rain = 0\n",
    "            print(\"error with rain #\" + str(c))\n",
    "        if max_rain > 10:\n",
    "            rains_of_type.append(pixel2[c])\n",
    "        c += 1\n",
    "    rains_larger_than_ten.append(rains_of_type)\n",
    "\n",
    "print(\"There are\", len(rains_larger_than_ten[2]), \"rains larger than 10 mm\")"
   ]
  },
  {
   "cell_type": "code",
   "execution_count": null,
   "id": "0446b37b",
   "metadata": {},
   "outputs": [],
   "source": [
    "c = 0\n",
    "for i, rain_dir in enumerate(rainfall_dats_directories):\n",
    "    ud.create_datfiles(\n",
    "        rains_larger_than_ten[i], rain_dir, identifier=\"real\", isReal=True, offset=c\n",
    "    )\n",
    "    c += n_real_rains[i]"
   ]
  },
  {
   "cell_type": "markdown",
   "id": "b68801f0",
   "metadata": {},
   "source": [
    "## Run SWMM "
   ]
  },
  {
   "cell_type": "code",
   "execution_count": null,
   "id": "51dbd53a",
   "metadata": {},
   "outputs": [],
   "source": [
    "for i in range(3):\n",
    "    ud.run_SWMM(inp_path, rainfall_dats_directories[i], simulation_directories[i])"
   ]
  },
  {
   "cell_type": "markdown",
   "id": "141ce1bc",
   "metadata": {},
   "source": [
    "## Extract and export SWMM results to CSV"
   ]
  },
  {
   "cell_type": "code",
   "execution_count": null,
   "id": "d356066c",
   "metadata": {},
   "outputs": [],
   "source": [
    "for i in range(3):\n",
    "    ud.extract_SWMM_results(simulation_directories[i])"
   ]
  }
 ],
 "metadata": {
  "kernelspec": {
   "display_name": "Python 3.10.2 ('venv_windows_gnn': venv)",
   "language": "python",
   "name": "python3"
  },
  "language_info": {
   "codemirror_mode": {
    "name": "ipython",
    "version": 3
   },
   "file_extension": ".py",
   "mimetype": "text/x-python",
   "name": "python",
   "nbconvert_exporter": "python",
   "pygments_lexer": "ipython3",
   "version": "3.10.8"
  },
  "vscode": {
   "interpreter": {
    "hash": "6fa9c7e38af3b06743eb92b2695f18cdca394412e5a5558ccb4d2df09a68ea62"
   }
  }
 },
 "nbformat": 4,
 "nbformat_minor": 5
}
